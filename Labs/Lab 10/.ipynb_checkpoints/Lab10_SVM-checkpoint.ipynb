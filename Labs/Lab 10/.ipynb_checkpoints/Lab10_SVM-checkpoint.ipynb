{
 "cells": [
  {
   "cell_type": "markdown",
   "metadata": {},
   "source": [
    "# Lab 10: SVM"
   ]
  },
  {
   "cell_type": "code",
   "execution_count": 1,
   "metadata": {},
   "outputs": [],
   "source": [
    "import pandas as pd\n",
    "import scipy as sp\n",
    "import numpy as np\n",
    "import warnings # current version of seaborn generates a bunch of warnings that we'll ignore\n",
    "warnings.filterwarnings(\"ignore\")\n",
    "from sklearn.preprocessing import StandardScaler\n",
    "from sklearn.metrics import accuracy_score"
   ]
  },
  {
   "cell_type": "markdown",
   "metadata": {},
   "source": [
    "## 0. Data Loading"
   ]
  },
  {
   "cell_type": "code",
   "execution_count": 6,
   "metadata": {},
   "outputs": [
    {
     "name": "stdout",
     "output_type": "stream",
     "text": [
      "Total columns:  15\n"
     ]
    },
    {
     "data": {
      "text/html": [
       "<div>\n",
       "<style scoped>\n",
       "    .dataframe tbody tr th:only-of-type {\n",
       "        vertical-align: middle;\n",
       "    }\n",
       "\n",
       "    .dataframe tbody tr th {\n",
       "        vertical-align: top;\n",
       "    }\n",
       "\n",
       "    .dataframe thead th {\n",
       "        text-align: right;\n",
       "    }\n",
       "</style>\n",
       "<table border=\"1\" class=\"dataframe\">\n",
       "  <thead>\n",
       "    <tr style=\"text-align: right;\">\n",
       "      <th></th>\n",
       "      <th>age</th>\n",
       "      <th>workclass</th>\n",
       "      <th>fnlwgt</th>\n",
       "      <th>edu</th>\n",
       "      <th>edu-num</th>\n",
       "      <th>maritalstatus</th>\n",
       "      <th>occupation</th>\n",
       "      <th>relationship</th>\n",
       "      <th>race</th>\n",
       "      <th>sex</th>\n",
       "      <th>capital-gain</th>\n",
       "      <th>capital-loss</th>\n",
       "      <th>hours-per-week</th>\n",
       "      <th>native-country</th>\n",
       "      <th>income</th>\n",
       "    </tr>\n",
       "  </thead>\n",
       "  <tbody>\n",
       "    <tr>\n",
       "      <th>0</th>\n",
       "      <td>39</td>\n",
       "      <td>State-gov</td>\n",
       "      <td>77516</td>\n",
       "      <td>Bachelors</td>\n",
       "      <td>13</td>\n",
       "      <td>Never-married</td>\n",
       "      <td>Adm-clerical</td>\n",
       "      <td>Not-in-family</td>\n",
       "      <td>White</td>\n",
       "      <td>Male</td>\n",
       "      <td>2174</td>\n",
       "      <td>0</td>\n",
       "      <td>40</td>\n",
       "      <td>United-States</td>\n",
       "      <td>&lt;=50K</td>\n",
       "    </tr>\n",
       "    <tr>\n",
       "      <th>1</th>\n",
       "      <td>50</td>\n",
       "      <td>Self-emp-not-inc</td>\n",
       "      <td>83311</td>\n",
       "      <td>Bachelors</td>\n",
       "      <td>13</td>\n",
       "      <td>Married-civ-spouse</td>\n",
       "      <td>Exec-managerial</td>\n",
       "      <td>Husband</td>\n",
       "      <td>White</td>\n",
       "      <td>Male</td>\n",
       "      <td>0</td>\n",
       "      <td>0</td>\n",
       "      <td>13</td>\n",
       "      <td>United-States</td>\n",
       "      <td>&lt;=50K</td>\n",
       "    </tr>\n",
       "    <tr>\n",
       "      <th>2</th>\n",
       "      <td>38</td>\n",
       "      <td>Private</td>\n",
       "      <td>215646</td>\n",
       "      <td>HS-grad</td>\n",
       "      <td>9</td>\n",
       "      <td>Divorced</td>\n",
       "      <td>Handlers-cleaners</td>\n",
       "      <td>Not-in-family</td>\n",
       "      <td>White</td>\n",
       "      <td>Male</td>\n",
       "      <td>0</td>\n",
       "      <td>0</td>\n",
       "      <td>40</td>\n",
       "      <td>United-States</td>\n",
       "      <td>&lt;=50K</td>\n",
       "    </tr>\n",
       "    <tr>\n",
       "      <th>3</th>\n",
       "      <td>53</td>\n",
       "      <td>Private</td>\n",
       "      <td>234721</td>\n",
       "      <td>11th</td>\n",
       "      <td>7</td>\n",
       "      <td>Married-civ-spouse</td>\n",
       "      <td>Handlers-cleaners</td>\n",
       "      <td>Husband</td>\n",
       "      <td>Black</td>\n",
       "      <td>Male</td>\n",
       "      <td>0</td>\n",
       "      <td>0</td>\n",
       "      <td>40</td>\n",
       "      <td>United-States</td>\n",
       "      <td>&lt;=50K</td>\n",
       "    </tr>\n",
       "    <tr>\n",
       "      <th>4</th>\n",
       "      <td>28</td>\n",
       "      <td>Private</td>\n",
       "      <td>338409</td>\n",
       "      <td>Bachelors</td>\n",
       "      <td>13</td>\n",
       "      <td>Married-civ-spouse</td>\n",
       "      <td>Prof-specialty</td>\n",
       "      <td>Wife</td>\n",
       "      <td>Black</td>\n",
       "      <td>Female</td>\n",
       "      <td>0</td>\n",
       "      <td>0</td>\n",
       "      <td>40</td>\n",
       "      <td>Cuba</td>\n",
       "      <td>&lt;=50K</td>\n",
       "    </tr>\n",
       "  </tbody>\n",
       "</table>\n",
       "</div>"
      ],
      "text/plain": [
       "   age          workclass  fnlwgt         edu  edu-num        maritalstatus  \\\n",
       "0   39          State-gov   77516   Bachelors       13        Never-married   \n",
       "1   50   Self-emp-not-inc   83311   Bachelors       13   Married-civ-spouse   \n",
       "2   38            Private  215646     HS-grad        9             Divorced   \n",
       "3   53            Private  234721        11th        7   Married-civ-spouse   \n",
       "4   28            Private  338409   Bachelors       13   Married-civ-spouse   \n",
       "\n",
       "           occupation    relationship    race      sex  capital-gain  \\\n",
       "0        Adm-clerical   Not-in-family   White     Male          2174   \n",
       "1     Exec-managerial         Husband   White     Male             0   \n",
       "2   Handlers-cleaners   Not-in-family   White     Male             0   \n",
       "3   Handlers-cleaners         Husband   Black     Male             0   \n",
       "4      Prof-specialty            Wife   Black   Female             0   \n",
       "\n",
       "   capital-loss  hours-per-week  native-country  income  \n",
       "0             0              40   United-States   <=50K  \n",
       "1             0              13   United-States   <=50K  \n",
       "2             0              40   United-States   <=50K  \n",
       "3             0              40   United-States   <=50K  \n",
       "4             0              40            Cuba   <=50K  "
      ]
     },
     "execution_count": 6,
     "metadata": {},
     "output_type": "execute_result"
    }
   ],
   "source": [
    "#load data and extract data\n",
    "names = ['age', 'workclass', 'fnlwgt', 'edu', 'edu-num', 'maritalstatus', 'occupation', 'relationship', 'race', 'sex','capital-gain','capital-loss','hours-per-week','native-country','income']\n",
    "df = pd.read_csv('adult.data', names=names)\n",
    "print( \"Total columns: \", len(df.columns))\n",
    "df.head()                 # display all columns\n",
    "#df[df.columns[:10]].head() # display the first 10 columns"
   ]
  },
  {
   "cell_type": "code",
   "execution_count": 3,
   "metadata": {
    "scrolled": true
   },
   "outputs": [
    {
     "name": "stdout",
     "output_type": "stream",
     "text": [
      "<class 'pandas.core.frame.DataFrame'>\n",
      "RangeIndex: 32561 entries, 0 to 32560\n",
      "Data columns (total 15 columns):\n",
      " #   Column          Non-Null Count  Dtype \n",
      "---  ------          --------------  ----- \n",
      " 0   age             32561 non-null  int64 \n",
      " 1   workclass       32561 non-null  object\n",
      " 2   fnlwgt          32561 non-null  int64 \n",
      " 3   edu             32561 non-null  object\n",
      " 4   edu-num         32561 non-null  int64 \n",
      " 5   maritalstatus   32561 non-null  object\n",
      " 6   occupation      32561 non-null  object\n",
      " 7   relationship    32561 non-null  object\n",
      " 8   race            32561 non-null  object\n",
      " 9   sex             32561 non-null  object\n",
      " 10  capital-gain    32561 non-null  int64 \n",
      " 11  capital-loss    32561 non-null  int64 \n",
      " 12  hours-per-week  32561 non-null  int64 \n",
      " 13  native-country  32561 non-null  object\n",
      " 14  income          32561 non-null  object\n",
      "dtypes: int64(6), object(9)\n",
      "memory usage: 3.7+ MB\n"
     ]
    }
   ],
   "source": [
    "df.info()"
   ]
  },
  {
   "cell_type": "code",
   "execution_count": 4,
   "metadata": {},
   "outputs": [],
   "source": [
    "from sklearn import preprocessing\n",
    "\n",
    "# it is required that all feature/target values be numerical\n",
    "# Systematically convert all string (labeled as object) type into labels(1,2,3,...)\n",
    "label_encoding = preprocessing.LabelEncoder()\n",
    "for column_name in df.columns:\n",
    "    if df[column_name].dtype == object:\n",
    "        df[column_name] = label_encoding.fit_transform(df[column_name])\n",
    "    else:\n",
    "        pass"
   ]
  },
  {
   "cell_type": "code",
   "execution_count": 5,
   "metadata": {},
   "outputs": [],
   "source": [
    "# extract X, y\n",
    "y = df['income']      # two labels: <=50K, >50K\n",
    "X = df.drop('income', axis=1)"
   ]
  },
  {
   "cell_type": "code",
   "execution_count": 6,
   "metadata": {},
   "outputs": [],
   "source": [
    "# Standardize X\n",
    "X = StandardScaler().fit_transform(X)"
   ]
  },
  {
   "cell_type": "code",
   "execution_count": 7,
   "metadata": {},
   "outputs": [
    {
     "name": "stdout",
     "output_type": "stream",
     "text": [
      "Train/Test sizes: 26048 6513\n"
     ]
    }
   ],
   "source": [
    "from sklearn.model_selection import train_test_split\n",
    "\n",
    "X_train, X_test, y_train, y_test = train_test_split(X, y, test_size=0.20, random_state=1)\n",
    "\n",
    "print('Train/Test sizes:', y_train.shape[0], y_test.shape[0])"
   ]
  },
  {
   "cell_type": "code",
   "execution_count": 8,
   "metadata": {},
   "outputs": [
    {
     "name": "stdout",
     "output_type": "stream",
     "text": [
      "--- 1.467 seconds ---\n"
     ]
    }
   ],
   "source": [
    "# showing how to use time to record execution time\n",
    "import time\n",
    "start_time = time.time()\n",
    "for i in range(1000):\n",
    "    for j in range(100):\n",
    "        for k in range(100):\n",
    "            sum_v = i+j+k\n",
    "stop_time = time.time()\n",
    "print(\"--- %s seconds ---\" % (round(stop_time - start_time, 3)))"
   ]
  },
  {
   "cell_type": "markdown",
   "metadata": {},
   "source": [
    "#### Important:  You should NOT modify code above this line, but you should understand how dataset was processed"
   ]
  },
  {
   "cell_type": "code",
   "execution_count": 9,
   "metadata": {},
   "outputs": [],
   "source": [
    "from sklearn.svm import LinearSVC, SVC\n",
    "from sklearn.linear_model import SGDClassifier"
   ]
  },
  {
   "cell_type": "markdown",
   "metadata": {},
   "source": [
    "## 1.  Execution time comparison"
   ]
  },
  {
   "cell_type": "markdown",
   "metadata": {},
   "source": [
    "### 1.1  SGDClassifier"
   ]
  },
  {
   "cell_type": "code",
   "execution_count": 10,
   "metadata": {},
   "outputs": [
    {
     "name": "stdout",
     "output_type": "stream",
     "text": [
      "0.8242 0.038\n"
     ]
    }
   ],
   "source": [
    "start_time = time.time()\n",
    "sgd_svc_clf = SGDClassifier(alpha=0.01, loss='hinge', random_state =42)\n",
    "sgd_svc_clf.fit(X_train, y_train)\n",
    "\n",
    "stop_time = time.time()\n",
    "print(round(accuracy_score(sgd_svc_clf.predict(X_test), y_test), 5),\n",
    "     round(stop_time - start_time, 3))\n",
    "#print(\"--- %s seconds ---\" % (round(stop_time - start_time, 3)))"
   ]
  },
  {
   "cell_type": "code",
   "execution_count": 1,
   "metadata": {},
   "outputs": [],
   "source": []
  },
  {
   "cell_type": "markdown",
   "metadata": {},
   "source": [
    "### 1.2. Linear SVC"
   ]
  },
  {
   "cell_type": "code",
   "execution_count": 12,
   "metadata": {},
   "outputs": [
    {
     "name": "stdout",
     "output_type": "stream",
     "text": [
      "0.82328 0.361\n"
     ]
    }
   ],
   "source": [
    "start_time = time.time()\n",
    "linear_svc_clf = LinearSVC(C=1, loss='hinge', random_state =42)\n",
    "linear_svc_clf.fit(X_train, y_train)\n",
    "\n",
    "stop_time = time.time()\n",
    "\n",
    "print(round(accuracy_score(linear_svc_clf.predict(X_test), y_test), 5), \n",
    "      round(stop_time - start_time, 3))"
   ]
  },
  {
   "cell_type": "markdown",
   "metadata": {},
   "source": [
    "### 1.3. SVC: Kernel='linear'"
   ]
  },
  {
   "cell_type": "code",
   "execution_count": 13,
   "metadata": {},
   "outputs": [
    {
     "name": "stdout",
     "output_type": "stream",
     "text": [
      "0.82358 20.402\n"
     ]
    }
   ],
   "source": [
    "start_time = time.time()\n",
    "svc_linear_clf = SVC(kernel='linear', C=1, random_state =42)\n",
    "svc_linear_clf.fit(X_train, y_train)\n",
    "\n",
    "stop_time = time.time()\n",
    "\n",
    "print(round(accuracy_score(svc_linear_clf.predict(X_test), y_test), 5), \n",
    "      round(stop_time - start_time, 3))"
   ]
  },
  {
   "cell_type": "markdown",
   "metadata": {},
   "source": [
    "### 1. 4. SVC: Kernel='poly'"
   ]
  },
  {
   "cell_type": "code",
   "execution_count": 14,
   "metadata": {},
   "outputs": [
    {
     "name": "stdout",
     "output_type": "stream",
     "text": [
      "0.82358 16.348\n"
     ]
    }
   ],
   "source": [
    "start_time = time.time()\n",
    "svc_poly_clf = SVC(kernel='poly', degree=3, C=1, random_state =42)\n",
    "svc_poly_clf.fit(X_train, y_train)\n",
    "\n",
    "stop_time = time.time()\n",
    "\n",
    "print(round(accuracy_score(svc_linear_clf.predict(X_test), y_test), 5), \n",
    "      round(stop_time - start_time, 3))"
   ]
  },
  {
   "cell_type": "markdown",
   "metadata": {},
   "source": [
    "### 1.5. SVC: Kernel='rbf'"
   ]
  },
  {
   "cell_type": "code",
   "execution_count": 15,
   "metadata": {},
   "outputs": [
    {
     "name": "stdout",
     "output_type": "stream",
     "text": [
      "0.848 22.462\n"
     ]
    }
   ],
   "source": [
    "start_time = time.time()\n",
    "svc_rbf_clf = SVC(kernel=\"rbf\", gamma=0.01, C=1, random_state =42)\n",
    "svc_rbf_clf.fit(X_train, y_train)\n",
    "accuracy = accuracy_score(svc_rbf_clf.predict(X_test), y_test)\n",
    "stop_time = time.time()\n",
    "\n",
    "print( round(accuracy, 5), \n",
    "      round(stop_time - start_time, 3))"
   ]
  },
  {
   "cell_type": "markdown",
   "metadata": {},
   "source": [
    "### 1.6. Summary the results in a table"
   ]
  },
  {
   "cell_type": "raw",
   "metadata": {},
   "source": [
    "--------------------------------------\n",
    "Algorithm            accuracy     Time\n",
    "--------------------------------------\n",
    "SGDClassifier        0.8242      0.038\n",
    "Linear SVC           0.8233      0.361\n",
    "SVC: Kernel=Linear   0.8236     20.402\n",
    "SVC: Kernel=ploy     0.8236     16.348\n",
    "SVC: Kernel=rfb      0.8480     22.462\n",
    "--------------------------------------"
   ]
  },
  {
   "cell_type": "markdown",
   "metadata": {},
   "source": [
    "## 2. Hyperparameter C and Gamma"
   ]
  },
  {
   "cell_type": "markdown",
   "metadata": {},
   "source": [
    "### 2.1 Hyparameter C in SVC: Kernel='rbf'"
   ]
  },
  {
   "cell_type": "code",
   "execution_count": 15,
   "metadata": {
    "scrolled": true
   },
   "outputs": [
    {
     "name": "stdout",
     "output_type": "stream",
     "text": [
      "1e-05 0.77169 30.303\n",
      "0.0001 0.77169 30.553\n",
      "0.001 0.77169 31.156\n",
      "0.01 0.81529 31.059\n",
      "0.1 0.84278 26.822\n",
      "1 0.84938 27.025\n",
      "10 0.8503 41.432\n",
      "100 0.83802 110.839\n",
      "1000 0.82635 388.165\n"
     ]
    }
   ],
   "source": [
    "c_list, c_accuracy_list=[],[]\n",
    "\n",
    "for C_val in [ 10**x for x in range(-5, 4) ]: \n",
    "    start_time = time.time()\n",
    "    svc_rbf_clf = SVC(kernel=\"rbf\", gamma=0.1, C=C_val, random_state =42)\n",
    "    svc_rbf_clf.fit(X_train, y_train)\n",
    "    accuracy = accuracy_score(svc_rbf_clf.predict(X_test), y_test)\n",
    "    stop_time = time.time()\n",
    "\n",
    "    c_list.append(C_val)\n",
    "    c_accuracy_list.append(accuracy)\n",
    "\n",
    "    print(C_val, \n",
    "          round(accuracy, 5), \n",
    "          round(stop_time - start_time, 3))"
   ]
  },
  {
   "cell_type": "code",
   "execution_count": 41,
   "metadata": {},
   "outputs": [
    {
     "data": {
      "image/png": "[encoded data removed]",
      "text/plain": [
       "<Figure size 432x288 with 1 Axes>"
      ]
     },
     "metadata": {
      "needs_background": "light"
     },
     "output_type": "display_data"
    }
   ],
   "source": [
    "import matplotlib.pyplot as plt\n",
    "\n",
    "plt.plot(np.log10(c_list), c_accuracy_list)\n",
    "plt.xlabel('log10(C)')\n",
    "plt.ylabel('Accuracy')\n",
    "plt.show()"
   ]
  },
  {
   "cell_type": "code",
   "execution_count": null,
   "metadata": {},
   "outputs": [],
   "source": []
  },
  {
   "cell_type": "markdown",
   "metadata": {},
   "source": [
    "### 2.2 Hyparameter Gamma in SVC: Kernel='rbf'"
   ]
  },
  {
   "cell_type": "code",
   "execution_count": 17,
   "metadata": {},
   "outputs": [
    {
     "name": "stdout",
     "output_type": "stream",
     "text": [
      "1e-05 0.77169 30.688\n",
      "0.0001 0.77169 31.446\n",
      "0.001 0.78213 31.241\n",
      "0.01 0.82865 28.406\n",
      "0.1 0.84278 27.015\n",
      "1 0.79917 109.155\n",
      "10 0.77169 144.448\n"
     ]
    }
   ],
   "source": [
    "gamma_list, g_accuracy_list=[],[]\n",
    "\n",
    "for gamma in [ 10**x for x in range(-5, 2) ]: \n",
    "    start_time = time.time()\n",
    "    svc_rbf_clf = SVC(kernel=\"rbf\", gamma=gamma, C=0.1, random_state =42)\n",
    "    svc_rbf_clf.fit(X_train, y_train)\n",
    "    accuracy = accuracy_score(svc_rbf_clf.predict(X_test), y_test)\n",
    "    stop_time = time.time()\n",
    "\n",
    "    gamma_list.append(gamma)\n",
    "    g_accuracy_list.append(accuracy)\n",
    "\n",
    "    print(gamma,\n",
    "          round(accuracy, 5), \n",
    "          round(stop_time - start_time, 3))"
   ]
  },
  {
   "cell_type": "code",
   "execution_count": 42,
   "metadata": {},
   "outputs": [
    {
     "data": {
      "text/plain": [
       "Text(0, 0.5, 'Accuracy')"
      ]
     },
     "execution_count": 42,
     "metadata": {},
     "output_type": "execute_result"
    },
    {
     "data": {
      "image/png": "[encoded data removed]",
      "text/plain": [
       "<Figure size 432x288 with 1 Axes>"
      ]
     },
     "metadata": {
      "needs_background": "light"
     },
     "output_type": "display_data"
    }
   ],
   "source": [
    "plt.plot(np.log10(gamma_list), g_accuracy_list)\n",
    "plt.xlabel('log10(Gamma)')\n",
    "plt.ylabel('Accuracy')"
   ]
  },
  {
   "cell_type": "code",
   "execution_count": null,
   "metadata": {},
   "outputs": [],
   "source": []
  }
 ],
 "metadata": {
  "kernelspec": {
   "display_name": "Python 3",
   "language": "python",
   "name": "python3"
  },
  "language_info": {
   "codemirror_mode": {
    "name": "ipython",
    "version": 3
   },
   "file_extension": ".py",
   "mimetype": "text/x-python",
   "name": "python",
   "nbconvert_exporter": "python",
   "pygments_lexer": "ipython3",
   "version": "3.8.8"
  }
 },
 "nbformat": 4,
 "nbformat_minor": 2
}
